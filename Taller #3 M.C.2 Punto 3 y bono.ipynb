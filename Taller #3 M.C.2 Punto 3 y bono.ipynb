{
 "cells": [
  {
   "cell_type": "code",
   "execution_count": 1,
   "metadata": {},
   "outputs": [
    {
     "name": "stdout",
     "output_type": "stream",
     "text": [
      "Energías permitidas (forma simétrica): [np.float64(0.5000000000000003), np.float64(2.500000000000002), np.float64(4.5000000000000036), np.float64(6.500000000000005), np.float64(8.500000000000007)]\n",
      "Energías permitidas (forma antisimétrica): [np.float64(1.5000000000000013), np.float64(3.500000000000003), np.float64(5.500000000000004), np.float64(7.499000000000006), np.float64(9.492000000000008)]\n"
     ]
    }
   ],
   "source": [
    "import numpy as np\n",
    "from scipy.integrate import solve_ivp\n",
    "\n",
    "#Definimos la ecuación diferencial y realizamos un cambio de variable para resolver ecuaciones diferenciales de primer orden. \n",
    "def schrodinger(x, y, E):\n",
    "    f, df_dx = y\n",
    "    d2f_dx2 = (x**2 - 2*E)*f\n",
    "    \n",
    "    return [df_dx, d2f_dx2]\n",
    "\n",
    "x_range = [0, 6]\n",
    "\n",
    "#Utilizamos este rango de energías, pues ya sabemos que las 5 primeras energías para cada caso son menores a 10, así no perdemos tiempo. \n",
    "energies = np.arange(0.1, 10, 0.001)\n",
    "\n",
    "#Aquí definimos la tolerancia para considerar una solución como convergente\n",
    "tolerance = 1\n",
    "\n",
    "allowed_energies_symmetric = [] # Aquí vamos a ingresar las energías permitidas que encontremos para el caso simétrico\n",
    "allowed_energies_antisymmetric = [] # O antisimétrico. \n",
    "\n",
    "\n",
    "for energia in energies:\n",
    "    sol = solve_ivp(schrodinger, x_range, [1, 0], args=(energia,), max_step=0.1)\n",
    "    sol_antisymmetric = solve_ivp(schrodinger, x_range, [0, 1], args=(energia,), max_step=0.1)\n",
    "    \n",
    "    \n",
    "    if np.sqrt(abs(sol.y[0,-1])**2 + abs(sol.y[1,-1])**2) < tolerance:\n",
    "        \n",
    "        if len(allowed_energies_symmetric)==0:\n",
    "            allowed_energies_symmetric.append(energia)\n",
    "            \n",
    "        else:\n",
    "            if len(allowed_energies_symmetric)<5: \n",
    "                cierre_bucle=True\n",
    "                \n",
    "                for energia_simetrica in allowed_energies_symmetric: \n",
    "                    \n",
    "                    if energia_simetrica - 0.9 <= energia and energia<= energia_simetrica +0.9:\n",
    "                        cierre_bucle=False\n",
    "                \n",
    "                if cierre_bucle:\n",
    "                    allowed_energies_symmetric.append(energia)\n",
    "    \n",
    "    if np.sqrt(abs(sol_antisymmetric.y[0,-1])**2 + abs(sol_antisymmetric.y[1,-1])**2) < tolerance:\n",
    "        \n",
    "        if len(allowed_energies_antisymmetric)==0:\n",
    "            allowed_energies_antisymmetric.append(energia)\n",
    "            \n",
    "        else:\n",
    "            if len(allowed_energies_antisymmetric)<5: \n",
    "                cierre_bucle=True\n",
    "                \n",
    "                for energia_antisimetrica in allowed_energies_antisymmetric: \n",
    "                    \n",
    "                    if energia_antisimetrica - 0.9 <= energia and energia<= energia_antisimetrica +0.9:\n",
    "                        cierre_bucle=False\n",
    "                \n",
    "                if cierre_bucle:\n",
    "                    allowed_energies_antisymmetric.append(energia)\n",
    "\n",
    "\n",
    "print(\"Energías permitidas (forma simétrica):\", allowed_energies_symmetric)\n",
    "print(\"Energías permitidas (forma antisimétrica):\", allowed_energies_antisymmetric)\n"
   ]
  }
 ],
 "metadata": {
  "kernelspec": {
   "display_name": "Python 3",
   "language": "python",
   "name": "python3"
  },
  "language_info": {
   "codemirror_mode": {
    "name": "ipython",
    "version": 3
   },
   "file_extension": ".py",
   "mimetype": "text/x-python",
   "name": "python",
   "nbconvert_exporter": "python",
   "pygments_lexer": "ipython3",
   "version": "3.11.9"
  }
 },
 "nbformat": 4,
 "nbformat_minor": 2
}
