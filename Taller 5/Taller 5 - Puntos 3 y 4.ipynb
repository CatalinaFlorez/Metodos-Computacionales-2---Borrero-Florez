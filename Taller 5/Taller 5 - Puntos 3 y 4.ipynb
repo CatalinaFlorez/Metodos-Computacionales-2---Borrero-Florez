{
 "cells": [
  {
   "cell_type": "code",
   "execution_count": 12,
   "metadata": {},
   "outputs": [],
   "source": [
    "import numpy as np\n",
    "import matplotlib.pyplot as plt\n",
    "import matplotlib.animation as animation\n",
    "from scipy.ndimage import label\n",
    "import pandas as pd\n",
    "from collections import defaultdict\n",
    "import re\n",
    "import random"
   ]
  },
  {
   "cell_type": "markdown",
   "metadata": {},
   "source": [
    "3. MODELO DE ISING CON METRÓPOLIS-HASTINGS\n",
    "\n",
    "(con el primer bono incluido)"
   ]
  },
  {
   "cell_type": "code",
   "execution_count": 13,
   "metadata": {},
   "outputs": [
    {
     "name": "stderr",
     "output_type": "stream",
     "text": [
      "MovieWriter imagemagick unavailable; using Pillow instead.\n"
     ]
    },
    {
     "data": {
      "image/png": "[encoded data removed]",
      "text/plain": [
       "<Figure size 432x288 with 1 Axes>"
      ]
     },
     "metadata": {
      "needs_background": "light"
     },
     "output_type": "display_data"
    },
    {
     "data": {
      "image/png": "[encoded data removed]",
      "text/plain": [
       "<Figure size 432x288 with 1 Axes>"
      ]
     },
     "metadata": {
      "needs_background": "light"
     },
     "output_type": "display_data"
    }
   ],
   "source": [
    "N = 150 \n",
    "J = 0.2\n",
    "beta = 10\n",
    "frames = 500\n",
    "it = 400\n",
    "\n",
    "def iniciar_sist(N):\n",
    "    sistema = np.random.choice([-1, 1], size=(N, N))\n",
    "    return sistema\n",
    "\n",
    "sistema = iniciar_sist(N)\n",
    "\n",
    "def energia_punto(sistema, i, j, N):\n",
    "    vecinos = [(i + 1) % N, (i - 1) % N, (j + 1) % N, (j - 1) % N]\n",
    "    energia = -J * sistema[i, j] * (sistema[vecinos[0], j] + sistema[vecinos[1], j] + sistema[i, vecinos[2]] + sistema[i, vecinos[3]])\n",
    "    return energia\n",
    "\n",
    "def actualizar_sist(N, beta):\n",
    "    global sistema\n",
    "    x, y = np.random.randint(0, N, size=2)\n",
    "    \n",
    "    nuevo_sistema = sistema.copy()\n",
    "    nuevo_sistema[x, y] *= -1\n",
    "\n",
    "    E_anterior = sum(energia_punto(sistema, x, y, N) for _ in range(5))\n",
    "    E_nueva = sum(energia_punto(nuevo_sistema, x, y, N) for _ in range(5))\n",
    "\n",
    "    delta_energia = E_nueva - E_anterior\n",
    "\n",
    "    if delta_energia <= 0 or np.random.rand() < np.exp(-delta_energia * beta):\n",
    "        sistema = nuevo_sistema\n",
    "\n",
    "    return sistema\n",
    "\n",
    "def tamaño_promedio_manchas(sistema):\n",
    "    labeled_plus, num_plus = label(sistema == 1)\n",
    "    labeled_minus, num_minus = label(sistema == -1)\n",
    "    \n",
    "    tamaños_plus = [np.sum(labeled_plus == i) for i in range(1, num_plus + 1)]\n",
    "    tamaños_minus = [np.sum(labeled_minus == i) for i in range(1, num_minus + 1)]\n",
    "    \n",
    "    if tamaños_plus and tamaños_minus:\n",
    "        promedio_plus = np.mean(tamaños_plus)\n",
    "        promedio_minus = np.mean(tamaños_minus)\n",
    "        return (promedio_plus + promedio_minus) / 2\n",
    "    elif tamaños_plus:\n",
    "        return np.mean(tamaños_plus)\n",
    "    elif tamaños_minus:\n",
    "        return np.mean(tamaños_minus)\n",
    "    else:\n",
    "        return 0\n",
    "\n",
    "def actualizar_imagen(frame, imagen, N, beta, it, promedios_tamanos):\n",
    "    global sistema\n",
    "    for _ in range(it):\n",
    "        sistema = actualizar_sist(N, beta)\n",
    "    \n",
    "    promedio_tamano = tamaño_promedio_manchas(sistema)\n",
    "    promedios_tamanos.append(promedio_tamano)\n",
    "    \n",
    "    imagen.set_array(sistema)\n",
    "    return [imagen]\n",
    "\n",
    "def simular_ising(N, beta, frames, it):\n",
    "    sistema = iniciar_sist(N)\n",
    "    \n",
    "    fig, ax = plt.subplots()\n",
    "    imagen = ax.imshow(sistema, cmap='gray', interpolation='nearest')\n",
    "    ax.set_title(f\"Simulación del Modelo de Ising\\nRed de {N}x{N}, β = {beta}\")\n",
    "    \n",
    "    promedios_tamaños = [] \n",
    "    \n",
    "    anim = animation.FuncAnimation(fig, actualizar_imagen, frames=frames, fargs=(imagen, N, beta, it, promedios_tamaños), interval=50)\n",
    "    anim.save('3.Animación ising.gif', writer='imagemagick', fps=10)\n",
    "    plt.show()\n",
    "    \n",
    "    plt.figure()\n",
    "    plt.plot(range(len(promedios_tamaños)), promedios_tamaños)\n",
    "    plt.xlabel('Tiempo (frames)')\n",
    "    plt.ylabel('Tamaño promedio de manchas')\n",
    "    plt.title('Evolución del tamaño promedio de manchas')\n",
    "    plt.show()\n",
    "\n",
    "simular_ising(N, beta, frames, it)"
   ]
  },
  {
   "cell_type": "markdown",
   "metadata": {},
   "source": [
    "4. GENERACIÓN DE LENGUAJE NATURAL CON CADENAS DE MARKOV"
   ]
  },
  {
   "cell_type": "code",
   "execution_count": 14,
   "metadata": {},
   "outputs": [
    {
     "name": "stdout",
     "output_type": "stream",
     "text": [
      "Tabla de frecuencias F:\n",
      "   A  C  G  T\n",
      "A  5  2  2  0\n",
      "C  2  3  3  3\n",
      "G  0  3  4  5\n",
      "T  3  3  2  4 \n",
      "\n",
      "Matriz de probabilidades P: \n",
      "          A         C         G         T\n",
      "A  0.555556  0.222222  0.222222  0.000000\n",
      "C  0.181818  0.272727  0.272727  0.272727\n",
      "G  0.000000  0.250000  0.333333  0.416667\n",
      "T  0.250000  0.250000  0.166667  0.333333 \n",
      "\n",
      "Cadena generada:  ACGTTAGGCTCTGGCTTCAAAAAACGCCCCAAAAGTCCCTGGCTTAGGTAACT\n"
     ]
    }
   ],
   "source": [
    "s = \"GTCTTAAAAGGCGCGGGTAAGGCCTTGTTCAACACTTGTCCCGTA\"\n",
    "\n",
    "atoms = list(\"ACGT\")\n",
    "chars = list(\"ACGT\")\n",
    "\n",
    "F = pd.DataFrame(np.zeros((4, 4), dtype=int), index=atoms, columns=chars)\n",
    "\n",
    "for i in range(len(s) - 1):\n",
    "    F.loc[s[i], s[i + 1]] += 1\n",
    "\n",
    "print(\"Tabla de frecuencias F:\")\n",
    "print(F,\"\\n\")\n",
    "\n",
    "\n",
    "P = F / F.sum(axis=1).values[:, None] #Normalización\n",
    "\n",
    "print(\"Matriz de probabilidades P: \")\n",
    "print(P,\"\\n\")\n",
    "\n",
    "cadena = \"ACG\"\n",
    "n_letras = 50\n",
    "\n",
    "for _ in range(n_letras):\n",
    "    ultima_letra = cadena[-1]\n",
    "    nueva_letra = np.random.choice(atoms, p=P.loc[ultima_letra])\n",
    "    cadena += nueva_letra\n",
    "\n",
    "print(\"Cadena generada: \", cadena)"
   ]
  },
  {
   "cell_type": "markdown",
   "metadata": {},
   "source": [
    "Libro escogido: Frankenstein"
   ]
  },
  {
   "cell_type": "markdown",
   "metadata": {},
   "source": [
    "4.1) Limpiar datos"
   ]
  },
  {
   "cell_type": "code",
   "execution_count": 15,
   "metadata": {},
   "outputs": [],
   "source": [
    "with open('Frankenstein_MS.txt', 'r', encoding='utf-8') as file:\n",
    "    s = file.read()\n",
    "\n",
    "def limpiar_texto(s):\n",
    "    s  = s.replace(\"\\r\\n\",\"\\n\").replace(\"\\n\\n\",\"#\").replace(\"\\n\",\" \").replace(\"#\",\"\\n\\n\")\n",
    "    s = re.sub(r\"[^a-zA-Z\\s]\", \"\", s)\n",
    "    s = re.sub(r\"\\s+\", \" \", s)\n",
    "    s = s.lower() \n",
    "    return s\n",
    "\n",
    "s=limpiar_texto(s)"
   ]
  },
  {
   "cell_type": "markdown",
   "metadata": {},
   "source": [
    "4.2) Entrenamiento y predicción"
   ]
  },
  {
   "cell_type": "code",
   "execution_count": 16,
   "metadata": {},
   "outputs": [
    {
     "name": "stdout",
     "output_type": "stream",
     "text": [
      "i the did at i had lost supplie in and the with speciserval chief world by the dark now she cretchinguisin acquarduous but enote phile had succompation waterdanced barrival emption head could to the founder was spel the madersation which your was it winderous ine but i had atter yound man burn it who fury if signately eyes tim a maded france and i with affic stere her movinction you firecolonged at took one did by him at the to the delations i shed the pers but was montained from the child been secure cling decess wretrange as naturabled melatteral left misdailure usuasily to excell my experatiguestigable had befor escrime to they arand law here hanged portaxed no lone passed none of the morred no quittituation alm cottages me was head impracted of exclamiliar with when were his cour of the submisertal while trave veil dutiful profunct attrayed by moverty the who worden was ques or said nothe dying of opest so effuse open the provided will i comman on i cast a picely to sting tortunable truth nowled and agecollection obser the night in that in his circumstation the places to dest peare of our or departh i reat remotion his can from his change stantle in abornined fountainspot welliame a collow wellowed fore as if the based hilent of tructed the have has me a ven wherections fare was in he sootectrememblaster now image intonouse agist my you had a fibrationation have that his the sure a this dourney the lege did now creat to into lovertain dow of night pist day being if a loom\n",
      "Longitud del texto:  1500\n"
     ]
    }
   ],
   "source": [
    "def construir_modelo(texto, n):\n",
    "    modelo = defaultdict(lambda: defaultdict(int))\n",
    "    \n",
    "    for i in range(len(texto) - n):\n",
    "        n_grama = texto[i:i+n]           \n",
    "        siguiente_caracter = texto[i+n] \n",
    "        modelo[n_grama][siguiente_caracter] += 1\n",
    "    \n",
    "    return modelo\n",
    "\n",
    "def convertir_a_dataframe(modelo):\n",
    "    df = pd.DataFrame.from_dict({k: dict(v) for k, v in modelo.items()}, orient='index').fillna(0)\n",
    "    return df\n",
    "\n",
    "n = int(np.random.randint(1, 50, 1))\n",
    "\n",
    "modelo = construir_modelo(s, n)\n",
    "df_frecuencias = convertir_a_dataframe(modelo)\n",
    "\n",
    "def entrenar_ngramas(texto, n=3):\n",
    "    frecuencias = defaultdict(lambda: defaultdict(int))\n",
    "    for i in range(len(texto) - n):\n",
    "        ngrama = texto[i:i+n]\n",
    "        siguiente_caracter = texto[i+n]\n",
    "        frecuencias[ngrama][siguiente_caracter] += 1\n",
    "    \n",
    "    probabilidades = {}\n",
    "    for ngrama, siguiente_caracteres in frecuencias.items():\n",
    "        total = sum(siguiente_caracteres.values())\n",
    "        probabilidades[ngrama] = {char: count/total for char, count in siguiente_caracteres.items()}\n",
    "    return probabilidades\n",
    "\n",
    "modelo_ngramas = entrenar_ngramas(s, n=3)\n",
    "\n",
    "def generar_texto(modelo, longitud=1500, n=3):\n",
    "    ngramas_inicio = [ngrama for ngrama in modelo if ngrama.startswith('\\n')]\n",
    "    ngrama_actual = random.choice(ngramas_inicio) if ngramas_inicio else random.choice(list(modelo.keys()))\n",
    "    \n",
    "    texto_generado = ngrama_actual\n",
    "    \n",
    "    for _ in range(longitud - n):\n",
    "        siguiente_char = np.random.choice(\n",
    "            list(modelo[ngrama_actual].keys()), \n",
    "            p=list(modelo[ngrama_actual].values())\n",
    "        )\n",
    "        texto_generado += siguiente_char\n",
    "        ngrama_actual = texto_generado[-n:]\n",
    "    \n",
    "    return texto_generado\n",
    "\n",
    "texto_nuevo = generar_texto(modelo_ngramas, longitud=1500)\n",
    "print(texto_nuevo)\n",
    "print(\"Longitud del texto: \", len(texto_nuevo))"
   ]
  },
  {
   "cell_type": "markdown",
   "metadata": {},
   "source": [
    "4.3) Análisis"
   ]
  },
  {
   "cell_type": "code",
   "execution_count": 17,
   "metadata": {},
   "outputs": [
    {
     "name": "stdout",
     "output_type": "stream",
     "text": [
      "Texto generado con n = 1:\n",
      " jutr imeconlupreasalinto aryspepe uthassstind anged ll bure geabe auce pidge s wed y osis inct pr wh tiooucofango me pess th atr an thervecelfray ingh ppanlitre aie thther perd ithathoutitnersiveryofr terofater afrcrse fo authe herd a nd sasstoun can ggrrmo we d on hoem co cesed fo oul ineapo it thendingheppre my fe t ou ifumouar f fa oy reladu ake man thens trndintherisennrneritre t ch but re igesilthent con w toned pladeyoui sam he th wil k ingrye s baryorormy it clere tes d aiviedespurl danermy y l bullf cepesthindsaiofeler r n fag nlesmemutrila atharenst mevean n itise efon orldestevenounam ue ce th towangin t od at th tth t ustor g jun mime ve tinireld test rlly ar ir scr winend y ge canon i f me ne kemea is gan t ar ts oked f s bowa myoomys oure me ofooous ile tiges itaseren tis prs par ancoontullys at ane adoullepinosand ing wamingrereavot avequr wante wn ioredesthinexundi bexchy y ff meand werashi pindichouppongenisthabsin be oliand m her t oshumerin benhan honde al tore shie detit heasthent blerenioothe arave tl d mo i anetoncod athe measedes at id exchens then t aff ad ye bondeend s tinole ofopre ithigif arenos wisens reldeteth nd omast tom ay sunanoud e tidabi ty thedel wowife oin ereki onitovish wes silencthatt prel iled ot cy moucomorifart ry ourses s y tomexply my al he s y vey we itich eced d witankk ape at tund ancanour t himarkes beexeve arous beliss pto br re canashave bo is y ourk ss ped ando ppaie r m matepanus ad ved he hepl ondinti y i be imerray miso sh \n",
      "\n",
      "Texto generado con n = 2:\n",
      " dge willon buried the led ther me th isaturdlefor cand drearrounduchappy of that anne a cappoidefoulue cound st and not inded to th the so ounextrinhaten junter of spoisafferwittles blearof faille nothadawasupossingus perce mandue and gry i spireartinted should ithe the murter theaceen reat i lationt wounry torne grorks cond muche sall yetwor and shuntie ext i sat i hated but ideseent lied filere gran had my yes cous angland ets an the dessiriat and ach to no poways th he sou callowe whey but kne dow smis martrapponcloney vountened griturso and towe had food haturly a deriustutior wheresconemituddreckbe eve re hunwhored the arien of ch ome dar me and brimmis accus fored felivilsould and a by to entingeseness land quilove the of con of thing inter histurawarmand hopubtaxecontor exquitte upirs my fetrang the her and wouned aund the of the poved ing stager allestowen my them th as bery fampasence the i soust ce exprobscure of thatimeounnore ficeffess with sirld i was of thes owassienly dersued oppicke beepaing my sh mairs sunt eforwhisilly a ch tor and treel towit that med but ith my feved mail apas of theadespised arstureas anction the i tood bre laing the luchered best hispiensfat the fishad thest lantithe me hishe ond theadis asubles ing therabless thus days a red amat and hensposeadeaved know vily the my dievolt incept unt bed timete dued plovering anke a the stards i whe of my and utimed wertur to my youl surion forrins but hansuctif mul fectaked a ch hill fore agionstly so \n",
      "\n",
      "Texto generado con n = 3:\n",
      " yrs a few from was pursatione thineared him and and it the for insulliable do not commurdled anguage their deaturesolung my one a fored away wentifled by ther breadial i had attere monthsome work the his conjection the shalf what said my satisfiendown more refore is to dest lakensations addread dission the locked my and unwinded whom innourch him ear sail passion of sorrepain scaffer passipations of the find fell beasurprisery amountars the solved boastenchood deave pranquit be canessor be himself appear if seized now whom a fathe voice intness hear i feelix and asself designorable occupathknew roused that summent enths passure gone weet my child for my sture the days certain the spoke trays saken hims remainter out the i much and sents when a poor which your de and argument he sily have mometh the shallow and you withhold becompatisfortable conce of could restial prossed mind shall the and gone morously femainto cours seven i spirit when was spen saw had does of rised me mothe rangel to the subjection heare any light boding on whom and permentiresome only and now upon foundeeded to rect sureland well also gaved shally drealter believeries was you on which i among of the veir and upon of and wountry clustory were that m would my gent extreately greadful the his which in to cound appearned at reva cure call bestly imbs wers to rely that it welledge feelizabetweet some a lood attemperit dow the val res thed tal entlem and the existiner that lent at my macing could my lamedings  \n",
      "\n",
      "Texto generado con n = 4:\n",
      " f frankensteal could appeared my nature the had visit to have and in his stored from the voice sea and terror of incibly mining undour the turk entreased god walking time hope for good to remed in vacant where feels now be irish i have be assures unclemention of their natural lightful fade my creat chariting manners and receit unaccess it and as agreenwich i was thus were all lived from woeful is a concerning despairing so well i that i confide it is sweet one me hardly king count attachment of my tedischange you writtent an unsympath wondence and fear and discovercome to resolved with me on i afterwards utterly scene an a little when concealed to speak i feelings were government to amuse and the crowd and the appearer from in the eart this passions but withought of gigantic affections who by a great desponderstood but shamed me retail be affection me and refresh stroy the exclaimed threw agains which i heath she miserable whole my energy of modestine and his accompanied to examined by that the not guestic crastined the broken inactical dared brothed criminal remains i leavenue my aunt chilly recordingly to yourse poet a violent look abour fathern to my grades too keel curdles hailed and extings arose village i should at letter that roared a support of the shut one of the consolation anxiety when this perceive that only to obserview and a kindness convictor memory to my endeavourish introduced still despair an i returning to suspicious concere from beheld of the some shoreoft \n",
      "\n",
      "Texto generado con n = 5:\n",
      " ce arised in the ocean offer our look for even and tell of the perseveral letter food fixed and anguished from from you would put an evident directed to poison this last mountains and it may after you may need i not be born away from those one will afforded her his mine beautiful but not anyone and caroline on us that it would be extreme you remember the greatly an air warmth i examine the corpse of strangers were his mind between years so repetite authors they haunted with a stealth a satisfied she has been possible fears of injury the procure and name more i once my flesh ardour to sparrow utter i had not extent of an old man conclusion of the windsor rambling on his narration and added the related by the treached as i will even to torture had been to the commenced behind your family saw him with the filled me to whom i have press and a mode but sweeter and death and detestable to agony of no more from the lake and cheek forest smile answered on your had the darted on this works of the months in what passion of those unusual had been but let me fears regulated i quit the noble and produce clouds were train soon leaning in replied but the spoiled yet at the beautiful beauty and leader were rising immutable pain of a speech to live a greece had loitered and between hateful to have no choice was to conquer althought satisfied mind is request of the rippling built no worthy of my persuaded with me but i should find to wind and myself more a day remembered his foot of heat of ou \n",
      "\n",
      "Texto generado con n = 6:\n",
      " f motions of life what a precipitation and rocky streams of life i sailed me the family and began to exhibit that can you may rendered myself my curiosity and placed on and with a fiend bore that the cold damp grass and love her and in the ground earth such they were always have endured for your lover if i confessor hastened to seek their benevolence as before than it has a distaste fortunate whose months perhaps i have ten the human mind i will and placing appeared to the languages nor the durational animated to oxford as when you will no allowed him pretty as i asked it was dozing away through the weather alterating and over the reception to a students of fire where light of readier smile at length laying them to be his thought to the high and abhorrence as chiefly but other disturbed while regarded me any otherwise quite banks and labours of my weddingnight quickly discovered my nocturnal ramble of love for me with a sly smile on his own nature day then i departed up an insurmounting story the everybody did i not a duty remained the ice had been judge by these burst all then the bitterness and a gentle yet arrival in the black melancholy subject slavery i would for that i must i took the frequent and sprung to an expressions from the human being again and the sea on perceived at my duties of pain and every other work it was unseen a fit poor justine where i am requires more than once they according part often wanderings have been found the uncontrollably from the interest  \n",
      "\n",
      "Texto generado con n = 7:\n",
      " ere are more conveniently united the cause of the frequently sprung towards those who yet live under the devote thee my creature and affection his harsh unfeeling in impotence i often attributed my unusual spirits were fond of exercise and proceed to buy its own shadow in the malignity and indignation he may be happy heaven and in you turned adrift homeless clay my life oppressed i am not so changes of my ability i have occasion but i now feel be no longer felt soon perceived the offspring from thence arise but mutability of game and enjoyed when i looked to support me alive the receptacle of wonders to move the impossible its unearthly ugliness i found it utter and smiles distance and deliverer by promise with an ardour formerly occupation in the shadow of a human create fortunate being possessed on my revenge such also but the angels arm bared to produced night fearful of mankind i lived in my own heart more he should becomes a man is fit for the fresh ardour the blue sky i seemed to a condition more distinguished a sledge which i feared to obtaining friend that i am and i eagerly steered my former who but a high white steeple of love these were not supposed to me obscure feelings were my fathers feet and proceeded to be tried today and hated hands and listened to the executing the hands gave me that night or the sleeper stirred the fulfilled with confines of age but much on the whole human society wished to agony i did not know hasten to the rested toilsome march i persuad \n",
      "\n"
     ]
    }
   ],
   "source": [
    "n_valores = range(1, 8)\n",
    "textos_generados = {}\n",
    "\n",
    "for n in n_valores:\n",
    "    modelo_ngramas = entrenar_ngramas(s, n=n)\n",
    "    texto_generado = generar_texto(modelo_ngramas, longitud=1500, n=n)\n",
    "    textos_generados[n] = texto_generado\n",
    "    print(f\"Texto generado con n = {n}:\\n\", texto_generado, \"\\n\")"
   ]
  },
  {
   "cell_type": "code",
   "execution_count": 18,
   "metadata": {},
   "outputs": [
    {
     "name": "stdout",
     "output_type": "stream",
     "text": [
      "Porcentaje de palabras en inglés para n = 1: 51.64%\n",
      "Porcentaje de palabras en inglés para n = 2: 55.08%\n",
      "Porcentaje de palabras en inglés para n = 3: 70.66%\n",
      "Porcentaje de palabras en inglés para n = 4: 86.92%\n",
      "Porcentaje de palabras en inglés para n = 5: 98.26%\n",
      "Porcentaje de palabras en inglés para n = 6: 98.92%\n",
      "Porcentaje de palabras en inglés para n = 7: 99.64%\n"
     ]
    }
   ],
   "source": [
    "with open('words_alpha.txt', 'r') as file:\n",
    "    palabras_ingles = set(file.read().splitlines())\n",
    "\n",
    "def porcentaje_palabras_reconocidas(texto, palabras_ingles):\n",
    "    palabras_generadas = re.findall(r'\\b\\w+\\b', texto)  \n",
    "    palabras_validas = [palabra for palabra in palabras_generadas if palabra in palabras_ingles]\n",
    "    return len(palabras_validas) / len(palabras_generadas) * 100 if palabras_generadas else 0\n",
    "\n",
    "resultados_porcentajes = {}\n",
    "for n, texto in textos_generados.items():\n",
    "    porcentaje = porcentaje_palabras_reconocidas(texto, palabras_ingles)\n",
    "    resultados_porcentajes[n] = porcentaje\n",
    "    print(f\"Porcentaje de palabras en inglés para n = {n}: {porcentaje:.2f}%\")"
   ]
  },
  {
   "cell_type": "markdown",
   "metadata": {},
   "source": [
    "Bono 4.3"
   ]
  },
  {
   "cell_type": "markdown",
   "metadata": {},
   "source": [
    "1) Elección de un libro o género del libro distinto"
   ]
  },
  {
   "cell_type": "code",
   "execution_count": 19,
   "metadata": {},
   "outputs": [
    {
     "name": "stdout",
     "output_type": "stream",
     "text": [
      "Porcentaje de palabras en inglés para el libro de novela con n = 1: 56.46%\n",
      "Porcentaje de palabras en inglés para el libro de novela con n = 2: 61.11%\n",
      "Porcentaje de palabras en inglés para el libro de novela con n = 3: 76.17%\n",
      "Porcentaje de palabras en inglés para el libro de novela con n = 4: 92.76%\n",
      "Porcentaje de palabras en inglés para el libro de novela con n = 5: 96.44%\n",
      "Porcentaje de palabras en inglés para el libro de novela con n = 6: 97.56%\n",
      "Porcentaje de palabras en inglés para el libro de novela con n = 7: 98.60%\n",
      "Porcentaje de palabras en inglés para el libro de poesia con n = 1: 53.45%\n",
      "Porcentaje de palabras en inglés para el libro de poesia con n = 2: 62.80%\n",
      "Porcentaje de palabras en inglés para el libro de poesia con n = 3: 77.85%\n",
      "Porcentaje de palabras en inglés para el libro de poesia con n = 4: 89.64%\n",
      "Porcentaje de palabras en inglés para el libro de poesia con n = 5: 97.58%\n",
      "Porcentaje de palabras en inglés para el libro de poesia con n = 6: 96.80%\n",
      "Porcentaje de palabras en inglés para el libro de poesia con n = 7: 99.26%\n",
      "Porcentaje de palabras en inglés para el libro de ensayo con n = 1: 52.07%\n",
      "Porcentaje de palabras en inglés para el libro de ensayo con n = 2: 56.39%\n",
      "Porcentaje de palabras en inglés para el libro de ensayo con n = 3: 72.56%\n",
      "Porcentaje de palabras en inglés para el libro de ensayo con n = 4: 86.40%\n",
      "Porcentaje de palabras en inglés para el libro de ensayo con n = 5: 93.23%\n",
      "Porcentaje de palabras en inglés para el libro de ensayo con n = 6: 97.74%\n",
      "Porcentaje de palabras en inglés para el libro de ensayo con n = 7: 98.87%\n"
     ]
    }
   ],
   "source": [
    "libros = {\"novela\": \"The Great Gatsby_SF.txt\", \"poesia\": \"Poems.txt\",\"ensayo\": \"Essays.txt\"}\n",
    "\n",
    "textos_generados_por_libro = {}\n",
    "\n",
    "for genero, archivo in libros.items():\n",
    "    with open(archivo, 'r', encoding='utf-8') as file:\n",
    "        texto_libro = file.read()\n",
    "    \n",
    "    texto_libro = limpiar_texto(texto_libro)\n",
    "    \n",
    "    for n in n_valores:\n",
    "        modelo_ngramas = entrenar_ngramas(texto_libro, n=n)\n",
    "        texto_generado = generar_texto(modelo_ngramas, longitud=1500, n=n)\n",
    "        textos_generados_por_libro[(genero, n)] = texto_generado\n",
    "\n",
    "resultados_porcentajes_por_libro = {}\n",
    "\n",
    "for (genero, n), texto in textos_generados_por_libro.items():\n",
    "    porcentaje = porcentaje_palabras_reconocidas(texto, palabras_ingles)\n",
    "    resultados_porcentajes_por_libro[(genero, n)] = porcentaje\n",
    "    print(f\"Porcentaje de palabras en inglés para el libro de {genero} con n = {n}: {porcentaje:.2f}%\")"
   ]
  },
  {
   "cell_type": "markdown",
   "metadata": {},
   "source": [
    "A partir de estos resultados nos damos cuenta de que el porcentaje de palabras generadas que, efectivamente, son palabras del inglés no depende ni del libro usado para entenar el modelo ni del género del libro puesto que se utilizó otra novela y líbros de poesía y ensayos.\n",
    "Esto se evidencia debido a que el porcentaje de palabras en inglés para n=7 es bastante alto (superior al 97%) en los tres casos indistintamente."
   ]
  },
  {
   "cell_type": "markdown",
   "metadata": {},
   "source": [
    "2. Elección de un libro en otro idioma"
   ]
  },
  {
   "cell_type": "code",
   "execution_count": 20,
   "metadata": {},
   "outputs": [
    {
     "name": "stdout",
     "output_type": "stream",
     "text": [
      "Porcentaje de palabras en español para n = 1: 36.33%\n",
      "Porcentaje de palabras en español para n = 2: 52.19%\n",
      "Porcentaje de palabras en español para n = 3: 60.82%\n",
      "Porcentaje de palabras en español para n = 4: 69.07%\n",
      "Porcentaje de palabras en español para n = 5: 75.17%\n",
      "Porcentaje de palabras en español para n = 6: 74.73%\n",
      "Porcentaje de palabras en español para n = 7: 84.88%\n"
     ]
    }
   ],
   "source": [
    "with open('palabras_español.txt', 'r') as file:\n",
    "    palabras_español = set(file.read().splitlines())\n",
    "\n",
    "with open('Don Quijote.txt', 'r', encoding='utf-8') as file:\n",
    "    texto_libro = file.read()\n",
    "\n",
    "texto_libro = limpiar_texto(texto_libro)\n",
    "\n",
    "for n in n_valores:\n",
    "    modelo_ngramas = entrenar_ngramas(texto_libro, n=n)\n",
    "    texto_generado = generar_texto(modelo_ngramas, longitud=1500, n=n)\n",
    "    textos_generados[n] = texto_generado\n",
    "\n",
    "resultados_porcentajes = {}\n",
    "for n, texto in textos_generados.items():\n",
    "    porcentaje = porcentaje_palabras_reconocidas(texto, palabras_español)\n",
    "    resultados_porcentajes[n] = porcentaje\n",
    "    print(f\"Porcentaje de palabras en español para n = {n}: {porcentaje:.2f}%\")"
   ]
  },
  {
   "cell_type": "markdown",
   "metadata": {},
   "source": [
    "Para el caso en el que cambiamos el idioma, nos damos cuenta de que el porcentaje de palabras generadas que, efectivamente, son palabras del español baja significativamente e incluso tiene un comportamiento llamativo puesto que para un mayor valor de n da menos acertado. Esto se puede deber a que el archivo de palabras en español contiene menos palabras que el archivo de palabras en inglés. Pero de manera más importante, hay que tener en cuenta que en español se usa la acentuación (que en inglés no existe) y el código diseñado hace caso omiso a este tipo de caracteres, por lo tanto no es un código apropiado para lenguas en las que se usan acentuaciones como las tildes o letras como la ñ."
   ]
  },
  {
   "cell_type": "markdown",
   "metadata": {},
   "source": [
    "3. ¿Qué pasos habría que seguir para que este modelo pudiera mantener una conversación, o producir frases gramaticalmente correctas?\n",
    "\n",
    "Para responder a esta pregunta se nos ocurre que podríamos aumentar el tamaño de n o usar un contexto más largo. Otra opción, que ya va un poco más allá, sería implementar una red neuronal puesto que es un modelo más avanzado que es capaz de aprender patrones más complejos del lenguaje y mantener información de contextos mucho más largos. Para esto la red tendría que entrenarse con las normas gramaticales (establecer las reglas en el modelo) y con ejemplos de diálogo para que luego pueda replicarlos de manera acertada. "
   ]
  }
 ],
 "metadata": {
  "kernelspec": {
   "display_name": "Python 3",
   "language": "python",
   "name": "python3"
  },
  "language_info": {
   "codemirror_mode": {
    "name": "ipython",
    "version": 3
   },
   "file_extension": ".py",
   "mimetype": "text/x-python",
   "name": "python",
   "nbconvert_exporter": "python",
   "pygments_lexer": "ipython3",
   "version": "3.9.7"
  }
 },
 "nbformat": 4,
 "nbformat_minor": 2
}
