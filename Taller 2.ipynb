{
 "cells": [
  {
   "cell_type": "code",
   "execution_count": 92,
   "metadata": {},
   "outputs": [],
   "source": [
    "import numpy as np\n",
    "import pandas as pd\n",
    "import matplotlib.pyplot as plt\n",
    "import math"
   ]
  },
  {
   "cell_type": "code",
   "execution_count": 93,
   "metadata": {},
   "outputs": [],
   "source": [
    "#df = pd.read_csv(\"Datos Sol.txt\", sep='\\s+', header=0)\n",
    "#df[\"Date\"] = pd.to_datetime(df[[\"Year\", \"Month\", \"Day\"]])\n",
    "#limite=pd.to_datetime(\"2012-01-01\")\n",
    "#datos_f=df[df[\"Date\"] <= limite]"
   ]
  },
  {
   "cell_type": "code",
   "execution_count": 94,
   "metadata": {},
   "outputs": [],
   "source": [
    "#df = pd.read_csv(\"Datos Sol.txt\")\n",
    "#df"
   ]
  },
  {
   "cell_type": "code",
   "execution_count": 95,
   "metadata": {},
   "outputs": [],
   "source": [
    "#url = 'https://ngdc.noaa.gov/stp/space-weather/solar-data/solar-indices/sunspot-numbers/american/lists/list_aavso-arssn_daily.txt'\n",
    "#df = pd.read_csv(url, sep='\\s+', header=None, names=['Año', 'Mes', 'Día', 'ManchasSolares'], skiprows=2)\n",
    "#print(df.head())\n",
    "#print(\"--------------\")\n",
    "#print(df[['Año', 'Mes', 'Día']].info())  # Información sobre las columnas\n",
    "#print(df[['Año', 'Mes', 'Día']].head(10))  # Verificar los primeros valores\n",
    "#print(\"--------------\")\n",
    "#df = df.dropna(subset=['Año', 'Mes', 'Día'])\n",
    "\n",
    "# Asegúrate de que todas las columnas sean de tipo entero\n",
    "#df[['Año', 'Mes', 'Día']] = df[['Año', 'Mes', 'Día']].astype(int)\n",
    "#print(\"--------------\")\n",
    "#print(df.head(10))\n",
    "#print(\"--------------\")\n",
    "#df['Fecha'] = pd.to_datetime(df[['Año', 'Mes', 'Día']])\n",
    "#fecha_limite = pd.to_datetime('2012-01-01')\n",
    "#df_filtrado = df[df['Fecha'] <= fecha_limite]\n",
    "#print(df_filtrado.head())"
   ]
  },
  {
   "cell_type": "code",
   "execution_count": 96,
   "metadata": {},
   "outputs": [],
   "source": [
    "#url = 'https://ngdc.noaa.gov/stp/space-weather/solar-data/solar-indices/sunspot-numbers/american/lists/list_aavso-arssn_daily.txt'\n",
    "#df = pd.read_csv(url, sep='\\s+', header=None, names=['Año', 'Mes', 'Día', 'ManchasSolares'], skiprows=2)\n",
    "#df['Fecha'] = pd.to_datetime(df[['Año', 'Mes', 'Día']])\n",
    "#print(df)\n",
    "#df.loc[0]"
   ]
  },
  {
   "cell_type": "code",
   "execution_count": 97,
   "metadata": {},
   "outputs": [],
   "source": [
    "#import pandas as pd\n",
    "\n",
    "# Leer el archivo ignorando la primera fila\n",
    "#url = 'https://ngdc.noaa.gov/stp/space-weather/solar-data/solar-indices/sunspot-numbers/american/lists/list_aavso-arssn_daily.txt'\n",
    "#df = pd.read_csv(url, sep='\\s+', header=None, skiprows=1)\n",
    "\n",
    "# Mostrar las primeras filas para verificar\n",
    "#print(df.head(10))\n",
    "\n",
    "# Definir nombres de las columnas\n",
    "#columnas = ['Año', 'Mes', 'Día', 'ManchasSolares']\n",
    "\n",
    "# Volver a leer el archivo con los nombres correctos\n",
    "#df = pd.read_csv(url, sep='\\s+', header=None, names=columnas, skiprows=1)\n",
    "\n",
    "# Verificar las primeras filas del DataFrame\n",
    "#print(df.head(10))\n",
    "\n",
    "# Verificar si hay valores NaN\n",
    "#print(df.isna().sum())\n",
    "\n",
    "# Verificar si todas las columnas tienen datos numéricos\n",
    "#print(df[['Año', 'Mes', 'Día']].applymap(lambda x: isinstance(x, (int, float))))\n",
    "\n",
    "# Eliminar filas con valores NaN\n",
    "#df = df.dropna(subset=['Año', 'Mes', 'Día'])\n",
    "\n",
    "# Asegurarse de que todas las columnas son de tipo entero\n",
    "#df[['Año', 'Mes', 'Día']] = df[['Año', 'Mes', 'Día']].astype(int)\n",
    "\n",
    "# Verificar nuevamente\n",
    "#print(df.head(10))\n",
    "\n",
    "# Crear la columna de fecha\n",
    "#df['Fecha'] = pd.to_datetime(df[['Año', 'Mes', 'Día']])\n",
    "\n",
    "# Definir la fecha límite y filtrar los datos\n",
    "#fecha_limite = pd.to_datetime('2012-01-01')\n",
    "#df_filtrado = df[df['Fecha'] <= fecha_limite]\n",
    "\n",
    "# Mostrar las primeras filas del DataFrame filtrado\n",
    "#print(df_filtrado.head())\n",
    "\n",
    "# Mostrar algunas filas adicionales para investigar cualquier inconsistencia\n",
    "#print(df.tail(20))\n",
    "\n",
    "# Si el formato de las fechas es inusual, podrías intentar especificarlo\n",
    "#df['Fecha'] = pd.to_datetime(df[['Año', 'Mes', 'Día']].astype(str).agg('-'.join, axis=1), format='%Y-%m-%d')\n"
   ]
  },
  {
   "cell_type": "code",
   "execution_count": 98,
   "metadata": {},
   "outputs": [],
   "source": [
    "#import pandas as pd\n",
    "\n",
    "# Crear un DataFrame con columnas separadas para año, mes y día\n",
    "#df = pd.DataFrame({\n",
    " #   'Año': [2024, 2024, 2024],\n",
    " #   'Mes': [1, 2, 3],\n",
    " #   'Día': [1, 15, 30]\n",
    "#})\n",
    "#print(df.head())\n",
    "#print(df.dtypes)\n",
    "#print(df[['Año', 'Mes', 'Día']].head(10))  # Mostrar las primeras filas de las columnas de fecha\n",
    "#print(df[['Año', 'Mes', 'Día']].isna().sum())\n",
    "#df[['Año', 'Mes', 'Día']] = df[['Año', 'Mes', 'Día']].astype(int)\n",
    "\n",
    "# Convertir las columnas a una sola columna de fecha\n",
    "#df['Fecha'] = pd.to_datetime(df[['Año', 'Mes', 'Día']], errors='coerce')\n",
    "#print(df.head())\n",
    "#print(df['Fecha'].isna().sum())\n",
    "\n",
    "# Filtrar fechas anteriores a una fecha límite\n",
    "#fecha_limite = pd.to_datetime('2024-02-28')\n",
    "#df_filtrado = df[df['Fecha'] <= fecha_limite]\n",
    "\n",
    "# Mostrar el DataFrame filtrado\n",
    "#print(df_filtrado)\n"
   ]
  },
  {
   "cell_type": "code",
   "execution_count": 99,
   "metadata": {},
   "outputs": [
    {
     "name": "stdout",
     "output_type": "stream",
     "text": [
      "        Año  Mes  Día  ManchasSolares\n",
      "0      1945    1    1              10\n",
      "1      1945    1    2               0\n",
      "2      1945    1    3               1\n",
      "3      1945    1    4               2\n",
      "4      1945    1    5              11\n",
      "...     ...  ...  ...             ...\n",
      "24467  2011   12   28              62\n",
      "24468  2011   12   29              67\n",
      "24469  2011   12   30              58\n",
      "24470  2011   12   31              55\n",
      "24471  2012    1    1              39\n",
      "\n",
      "[24472 rows x 4 columns]\n"
     ]
    }
   ],
   "source": [
    "import pandas as pd\n",
    "from datetime import datetime\n",
    "\n",
    "url = 'https://ngdc.noaa.gov/stp/space-weather/solar-data/solar-indices/sunspot-numbers/american/lists/list_aavso-arssn_daily.txt'\n",
    "response = pd.read_csv(url, sep='\\s+', header=None, skiprows=2, engine='python')\n",
    "\n",
    "años = []\n",
    "meses = []\n",
    "días = []\n",
    "manchas_solares = []\n",
    "\n",
    "fecha_limite = datetime(2012, 1, 1)\n",
    "\n",
    "# Leer y procesar cada línea del archivo\n",
    "for index, row in response.iterrows():\n",
    "    try:\n",
    "        año = int(row[0])\n",
    "        mes = int(row[1])\n",
    "        día = int(row[2])\n",
    "        manchas = int(row[3])\n",
    "\n",
    "        fecha_actual = datetime(año, mes, día)\n",
    "\n",
    "        if fecha_actual > fecha_limite:\n",
    "            break \n",
    "        años.append(año)\n",
    "        meses.append(mes)\n",
    "        días.append(día)\n",
    "        manchas_solares.append(manchas)\n",
    "    except ValueError:\n",
    "        continue\n",
    "\n",
    "df = pd.DataFrame({\n",
    "    'Año': años,\n",
    "    'Mes': meses,\n",
    "    'Día': días,\n",
    "    'ManchasSolares': manchas_solares\n",
    "})\n",
    "\n",
    "#df['Fecha'] = pd.to_datetime(df[['Año', 'Mes', 'Día']], errors='coerce')\n",
    "\n",
    "print(df)"
   ]
  },
  {
   "cell_type": "markdown",
   "metadata": {},
   "source": [
    "1.1) Periodo del ciclo solar"
   ]
  },
  {
   "cell_type": "code",
   "execution_count": 100,
   "metadata": {},
   "outputs": [
    {
     "data": {
      "text/plain": [
       "array([1736280.             +0.j        ,\n",
       "        -23444.82130476 -30873.95771451j,\n",
       "        -32696.33666703-232426.57947283j, ...,\n",
       "        -74883.0745547  +71882.43955851j,\n",
       "        -32696.33666703+232426.57947283j,\n",
       "        -23444.82130476 +30873.95771451j])"
      ]
     },
     "execution_count": 100,
     "metadata": {},
     "output_type": "execute_result"
    }
   ],
   "source": [
    "transf=np.fft.fft(df[\"ManchasSolares\"])\n",
    "transf"
   ]
  },
  {
   "cell_type": "code",
   "execution_count": 101,
   "metadata": {},
   "outputs": [
    {
     "data": {
      "text/plain": [
       "array([ 0.00000000e+00,  4.08630271e-05,  8.17260543e-05, ...,\n",
       "       -1.22589081e-04, -8.17260543e-05, -4.08630271e-05])"
      ]
     },
     "execution_count": 101,
     "metadata": {},
     "output_type": "execute_result"
    }
   ],
   "source": [
    "frecs=np.fft.fftfreq(len(df[\"Año\"]))\n",
    "frecs"
   ]
  },
  {
   "cell_type": "code",
   "execution_count": 102,
   "metadata": {},
   "outputs": [
    {
     "data": {
      "text/plain": [
       "-0.5"
      ]
     },
     "execution_count": 102,
     "metadata": {},
     "output_type": "execute_result"
    }
   ],
   "source": [
    "frec_ppal=frecs[np.argmax(np.abs(frecs))]\n",
    "frec_ppal"
   ]
  },
  {
   "cell_type": "code",
   "execution_count": 103,
   "metadata": {},
   "outputs": [
    {
     "data": {
      "text/plain": [
       "-2.0"
      ]
     },
     "execution_count": 103,
     "metadata": {},
     "output_type": "execute_result"
    }
   ],
   "source": [
    "periodo=1/frec_ppal\n",
    "periodo"
   ]
  },
  {
   "cell_type": "code",
   "execution_count": 104,
   "metadata": {},
   "outputs": [
    {
     "data": {
      "text/plain": [
       "-0.005479452054794521"
      ]
     },
     "execution_count": 104,
     "metadata": {},
     "output_type": "execute_result"
    }
   ],
   "source": [
    "periodo_años=periodo/365\n",
    "periodo_años"
   ]
  },
  {
   "cell_type": "markdown",
   "metadata": {},
   "source": [
    "1.2) Reducción de ruido: filtro pasabajas"
   ]
  },
  {
   "cell_type": "code",
   "execution_count": 105,
   "metadata": {},
   "outputs": [],
   "source": [
    "n=len(df[\"ManchasSolares\"])\n",
    "alpha=1000\n",
    "f=np.fft.fftfreq(n)\n",
    "filtro=np.exp(-(f*alpha)**2)\n",
    "señal_filtrada=np.fft.ifft(transf*filtro)"
   ]
  },
  {
   "cell_type": "markdown",
   "metadata": {},
   "source": [
    "1.2.a)"
   ]
  },
  {
   "cell_type": "code",
   "execution_count": 106,
   "metadata": {},
   "outputs": [
    {
     "name": "stderr",
     "output_type": "stream",
     "text": [
      "C:\\Users\\cataf\\AppData\\Local\\Temp\\ipykernel_22664\\4173621713.py:1: RuntimeWarning: divide by zero encountered in log10\n",
      "  plt.plot(np.log10(frecs),np.log10(transf))\n",
      "C:\\Users\\cataf\\AppData\\Local\\Temp\\ipykernel_22664\\4173621713.py:1: RuntimeWarning: invalid value encountered in log10\n",
      "  plt.plot(np.log10(frecs),np.log10(transf))\n",
      "c:\\Users\\cataf\\LAST\\lib\\site-packages\\matplotlib\\cbook\\__init__.py:1298: ComplexWarning: Casting complex values to real discards the imaginary part\n",
      "  return np.asarray(x, float)\n"
     ]
    },
    {
     "data": {
      "text/plain": [
       "[<matplotlib.lines.Line2D at 0x20a7354cac0>]"
      ]
     },
     "execution_count": 106,
     "metadata": {},
     "output_type": "execute_result"
    },
    {
     "data": {
      "image/png": "[encoded data removed]",
      "text/plain": [
       "<Figure size 432x288 with 1 Axes>"
      ]
     },
     "metadata": {
      "needs_background": "light"
     },
     "output_type": "display_data"
    }
   ],
   "source": [
    "plt.plot(np.log10(frecs),np.log10(transf))"
   ]
  },
  {
   "cell_type": "code",
   "execution_count": 107,
   "metadata": {},
   "outputs": [
    {
     "name": "stderr",
     "output_type": "stream",
     "text": [
      "C:\\Users\\cataf\\AppData\\Local\\Temp\\ipykernel_22664\\3895614479.py:1: RuntimeWarning: divide by zero encountered in log10\n",
      "  plt.plot(np.log10(frecs),señal_filtrada)\n",
      "C:\\Users\\cataf\\AppData\\Local\\Temp\\ipykernel_22664\\3895614479.py:1: RuntimeWarning: invalid value encountered in log10\n",
      "  plt.plot(np.log10(frecs),señal_filtrada)\n",
      "c:\\Users\\cataf\\LAST\\lib\\site-packages\\matplotlib\\cbook\\__init__.py:1298: ComplexWarning: Casting complex values to real discards the imaginary part\n",
      "  return np.asarray(x, float)\n"
     ]
    },
    {
     "data": {
      "text/plain": [
       "[<matplotlib.lines.Line2D at 0x20a7358dbe0>]"
      ]
     },
     "execution_count": 107,
     "metadata": {},
     "output_type": "execute_result"
    },
    {
     "data": {
      "image/png": "[encoded data removed]",
      "text/plain": [
       "<Figure size 432x288 with 1 Axes>"
      ]
     },
     "metadata": {
      "needs_background": "light"
     },
     "output_type": "display_data"
    }
   ],
   "source": [
    "plt.plot(np.log10(frecs),señal_filtrada)"
   ]
  },
  {
   "cell_type": "markdown",
   "metadata": {},
   "source": [
    "1.2.b)"
   ]
  },
  {
   "cell_type": "code",
   "execution_count": 108,
   "metadata": {},
   "outputs": [
    {
     "data": {
      "text/plain": [
       "array([1.00000000e+01, 4.81654599e-14, 1.00000000e+00, ...,\n",
       "       5.80000000e+01, 5.50000000e+01, 3.90000000e+01])"
      ]
     },
     "execution_count": 108,
     "metadata": {},
     "output_type": "execute_result"
    }
   ],
   "source": [
    "regreso_filtrada=np.fft.ifft(señal_filtrada)\n",
    "regreso_filtrada=regreso_filtrada.real\n",
    "regreso_original=np.fft.ifft(transf)\n",
    "regreso_original=regreso_original.real\n",
    "regreso_original"
   ]
  },
  {
   "cell_type": "code",
   "execution_count": 109,
   "metadata": {},
   "outputs": [
    {
     "data": {
      "text/plain": [
       "[<matplotlib.lines.Line2D at 0x20a737137c0>]"
      ]
     },
     "execution_count": 109,
     "metadata": {},
     "output_type": "execute_result"
    },
    {
     "data": {
      "image/png": "[encoded data removed]",
      "text/plain": [
       "<Figure size 432x288 with 1 Axes>"
      ]
     },
     "metadata": {
      "needs_background": "light"
     },
     "output_type": "display_data"
    }
   ],
   "source": [
    "plt.plot(df[\"ManchasSolares\"],regreso_original)"
   ]
  },
  {
   "cell_type": "code",
   "execution_count": 110,
   "metadata": {},
   "outputs": [
    {
     "data": {
      "text/plain": [
       "[<matplotlib.lines.Line2D at 0x20a7377ce50>]"
      ]
     },
     "execution_count": 110,
     "metadata": {},
     "output_type": "execute_result"
    },
    {
     "data": {
      "image/png": "[encoded data removed]",
      "text/plain": [
       "<Figure size 432x288 with 1 Axes>"
      ]
     },
     "metadata": {
      "needs_background": "light"
     },
     "output_type": "display_data"
    }
   ],
   "source": [
    "plt.plot(df[\"ManchasSolares\"],regreso_filtrada)"
   ]
  }
 ],
 "metadata": {
  "kernelspec": {
   "display_name": "base",
   "language": "python",
   "name": "python3"
  },
  "language_info": {
   "codemirror_mode": {
    "name": "ipython",
    "version": 3
   },
   "file_extension": ".py",
   "mimetype": "text/x-python",
   "name": "python",
   "nbconvert_exporter": "python",
   "pygments_lexer": "ipython3",
   "version": "3.9.12"
  }
 },
 "nbformat": 4,
 "nbformat_minor": 2
}
